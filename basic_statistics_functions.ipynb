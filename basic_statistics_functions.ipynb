{
  "nbformat": 4,
  "nbformat_minor": 0,
  "metadata": {
    "colab": {
      "provenance": []
    },
    "kernelspec": {
      "name": "python3",
      "display_name": "Python 3"
    },
    "language_info": {
      "name": "python"
    }
  },
  "cells": [
    {
      "cell_type": "markdown",
      "source": [
        "**mean, median, mode**"
      ],
      "metadata": {
        "id": "LTersvrXr9B0"
      }
    },
    {
      "cell_type": "code",
      "execution_count": 1,
      "metadata": {
        "id": "5YYL_N70rD8x"
      },
      "outputs": [],
      "source": [
        "import numpy as np"
      ]
    },
    {
      "cell_type": "code",
      "source": [
        "# random kullanarak sample veri setini kendimiz olusturalim\n",
        "# aylik gelir 5000 tl standard deviation 2000 tl olsun, 1000 kisinin random aylik maasi\n",
        "gelirler=np.random.normal(5000,2000,1000)\n",
        "gelirler"
      ],
      "metadata": {
        "colab": {
          "base_uri": "https://localhost:8080/"
        },
        "id": "sfsi9i_csB9H",
        "outputId": "f2ccb0bf-4ed2-48f7-cff7-3dd67d11ca5b"
      },
      "execution_count": 2,
      "outputs": [
        {
          "output_type": "execute_result",
          "data": {
            "text/plain": [
              "array([ 5.51230746e+03,  2.42143142e+03,  8.35002135e+03,  5.50923425e+03,\n",
              "        7.21875816e+03,  7.15392035e+03,  5.24167773e+03,  1.06895898e+04,\n",
              "        2.67396453e+03,  7.12296879e+03,  1.40153101e+03,  4.32027669e+03,\n",
              "        3.85599108e+03,  7.33200258e+03,  5.23180891e+03,  8.27879618e+03,\n",
              "        4.43983649e+03,  8.01583886e+03,  5.60125815e+03, -1.48875918e+03,\n",
              "        3.94203794e+03,  7.87661454e+03,  6.79048208e+03,  5.38540338e+03,\n",
              "        7.53311275e+03,  4.00626609e+03,  9.09307376e+03,  4.88914998e+03,\n",
              "        5.81691333e+03,  4.08631482e+03,  4.25632084e+03,  3.91274994e+03,\n",
              "        7.66521556e+03,  3.35896088e+03,  4.88365210e+03,  5.88512630e+03,\n",
              "        5.43462741e+03,  3.89501256e+03,  5.51323832e+03,  3.48691669e+03,\n",
              "        8.47039638e+02,  6.46572098e+03,  4.92345322e+03,  1.63521130e+03,\n",
              "        2.76611688e+03,  3.47942716e+03,  5.79908159e+03,  4.29564702e+03,\n",
              "        8.99294581e+03,  5.83736671e+03,  6.69215951e+03,  8.77674536e+03,\n",
              "        5.21442492e+03,  3.90412892e+03,  2.45422756e+03,  5.90911376e+03,\n",
              "        6.16720202e+03,  9.58034287e+02,  4.37243725e+03,  5.96260737e+03,\n",
              "        5.52466943e+03,  7.45159756e+03,  6.92951874e+03,  7.27242785e+03,\n",
              "        1.30393244e+03,  5.96811473e+03, -1.69447323e+03,  5.34850790e+03,\n",
              "        3.41380329e+03,  2.35186164e+03,  3.85844629e+03,  4.76604389e+03,\n",
              "        6.46799685e+03,  4.53788105e+03,  5.64787066e+03,  5.75705865e+03,\n",
              "        4.15818019e+03,  5.28211678e+03,  4.87270770e+03,  8.66629137e+03,\n",
              "        7.22916299e+03,  2.04904908e+03,  9.16729941e+03,  3.42103302e+03,\n",
              "        9.25670500e+02,  8.84279360e+03,  6.54108087e+03,  8.04901978e+03,\n",
              "        5.14795098e+03,  4.57861428e+03,  2.42051872e+03,  8.12953271e+03,\n",
              "        3.63498777e+03,  7.33248816e+03,  5.16541708e+03,  4.82683375e+03,\n",
              "        5.68622701e+03,  3.43041552e+03,  5.05336715e+03,  2.78846531e+03,\n",
              "        5.35021086e+03,  4.17155249e+03,  4.09649997e+03,  1.12072515e+03,\n",
              "        4.99976331e+03,  4.64037471e+03,  6.79405669e+03,  4.65929497e+03,\n",
              "        4.58635853e+03,  4.83730317e+03,  3.52393549e+03,  5.56932611e+03,\n",
              "        4.87459151e+03,  4.34159249e+03,  5.58492071e+03,  4.34437486e+03,\n",
              "        7.38788537e+03,  3.14479564e+03, -1.71249001e+03,  8.95349520e+03,\n",
              "        4.80543888e+03,  7.18954608e+03,  8.31305363e+03,  4.36363649e+03,\n",
              "        7.96371782e+03,  1.00320087e+04,  3.67490791e+03,  7.95159999e+03,\n",
              "        3.03961021e+03,  6.34199760e+03,  3.53249560e+03,  7.08522143e+03,\n",
              "        7.65333893e+03,  8.35642814e+03,  1.04445179e+04,  7.80314950e+03,\n",
              "        3.75812120e+03,  6.07366010e+02,  5.35665791e+03,  3.68022889e+03,\n",
              "        5.52431273e+03,  4.68864363e+03,  4.81191379e+03,  3.49653303e+03,\n",
              "        5.44852264e+03,  4.19072052e+03,  5.71103283e+03,  8.74739061e+03,\n",
              "        2.13344394e+03,  5.55247950e+03,  5.87082643e+03,  6.44156963e+03,\n",
              "        4.34032714e+03,  6.90945464e+03,  6.02502395e+03,  3.10144161e+03,\n",
              "        3.49412746e+03, -4.98422970e+02,  3.92855874e+03,  7.31725893e+03,\n",
              "        7.51629891e+02,  2.53248785e+03,  5.70620757e+03,  6.60795221e+03,\n",
              "        3.94234690e+03,  5.41315861e+03,  2.55894384e+03,  2.71734791e+03,\n",
              "        6.98125409e+03,  5.42003130e+03,  6.41798559e+03,  5.46503036e+03,\n",
              "        5.03148523e+03,  4.64595410e+03,  9.32371551e+03,  3.55902853e+03,\n",
              "        2.64331629e+03,  7.84118780e+03,  7.15287652e+03,  4.75226187e+03,\n",
              "        7.64720798e+03,  5.64167521e+03,  5.19926083e+03,  9.24253509e+03,\n",
              "        5.51375784e+03,  6.90099134e+03,  1.05783102e+03,  5.13147794e+03,\n",
              "        6.27083513e+03,  6.24353942e+03,  7.39905313e+03,  1.40540202e+03,\n",
              "        7.12392825e+03,  6.31845767e+03,  4.82137656e+03,  3.44929910e+03,\n",
              "        7.97324940e+03,  1.58365383e+03,  8.24230377e+03,  5.44910146e+03,\n",
              "        5.07482538e+03,  3.73692956e+03,  3.07484176e+03,  2.18366538e+03,\n",
              "        1.90565181e+03,  4.29289319e+03,  8.46884649e+03,  3.35711911e+03,\n",
              "        3.62280086e+03,  3.87107147e+03,  5.93929600e+03,  5.24404199e+03,\n",
              "        6.14558060e+03,  3.40675786e+03,  4.59663608e+03,  1.59719433e+03,\n",
              "        4.37055226e+03,  6.69322179e+03,  6.19373432e+03,  4.52391197e+03,\n",
              "        2.15262028e+03,  6.12570410e+03,  6.72869664e+03,  6.01043516e+03,\n",
              "        6.86924155e+03,  3.62825970e+03,  6.27894765e+03, -2.32504731e+02,\n",
              "        5.08515472e+03,  6.70007812e+03,  6.47680294e+03,  5.83732466e+03,\n",
              "        7.16293074e+03,  6.18153632e+03,  5.35441818e+03,  3.94973583e+03,\n",
              "        2.88639757e+03,  8.83809100e+03,  5.36839046e+03,  7.34764100e+03,\n",
              "        4.71986059e+03,  5.72556043e+03,  6.05568861e+03,  6.27662216e+03,\n",
              "        4.42099058e+03,  4.11084774e+03,  5.22153337e+03,  7.98783447e+03,\n",
              "        8.84587824e+03,  3.18910592e+03,  4.72749751e+03,  2.13557313e+03,\n",
              "        4.68541543e+03,  1.21985496e+03,  5.76711798e+03,  7.11082140e+03,\n",
              "       -7.47563418e+02,  5.93418744e+03,  5.67311693e+03,  2.90683523e+03,\n",
              "        3.84879942e+03,  2.75915303e+03,  4.65451343e+03,  4.11829790e+03,\n",
              "        4.67168492e+03,  3.88883836e+03,  7.30035473e+03,  9.59325961e+03,\n",
              "        6.10411926e+03,  6.40178762e+03,  6.31889803e+03,  3.30496901e+03,\n",
              "        2.75289932e+03,  2.87149538e+03,  4.63962244e+03,  2.57640101e+03,\n",
              "        3.79651902e+03,  2.28442447e+03,  2.90901841e+03,  5.14810882e+03,\n",
              "        2.81696957e+03,  8.65077818e+02,  8.22456732e+03,  6.93071000e+03,\n",
              "        5.95389072e+03,  5.33413286e+03,  4.70973791e+03,  2.87712303e+03,\n",
              "        1.00639708e+04,  5.29341457e+03,  1.99479936e+03,  6.54583477e+03,\n",
              "        7.01287786e+03,  7.24596760e+03,  3.80537750e+03,  3.98539513e+03,\n",
              "        7.35442088e+03,  7.07437180e+03,  5.24895095e+00,  3.05933539e+03,\n",
              "        8.12695941e+03,  6.32059689e+03,  5.76996949e+03,  5.15553771e+03,\n",
              "        4.89204913e+03,  3.13642902e+03,  2.34402914e+03,  3.66652075e+03,\n",
              "        7.72432017e+03,  6.34663596e+03,  2.56275350e+03,  6.75692256e+03,\n",
              "        4.06492283e+03,  1.88017481e+03,  5.16783361e+03,  4.90824096e+03,\n",
              "        6.04311310e+03,  7.52825718e+03,  4.29109200e+03,  3.92190593e+03,\n",
              "        3.34171490e+03,  6.07282991e+03,  5.49146952e+03,  3.50076835e+03,\n",
              "        6.91499552e+03,  7.75969406e+03,  2.98104910e+03,  3.63844308e+03,\n",
              "        1.53422496e+03,  5.45173077e+03,  4.12341934e+03,  7.80447594e+03,\n",
              "        6.00248744e+03,  3.86336748e+03,  5.75059931e+03,  8.88069734e+03,\n",
              "        5.84292634e+03,  3.18781778e+03,  2.71895122e+03,  8.35769526e+03,\n",
              "        5.82622534e+03,  4.63041040e+03,  6.69505183e+03,  6.73521755e+03,\n",
              "        5.37275078e+03,  3.83882251e+03,  8.39002069e+03,  7.61995890e+03,\n",
              "        5.53713330e+03,  7.80262013e+03,  1.34989629e+03,  2.61847111e+03,\n",
              "        2.55571881e+03,  5.59168041e+03,  2.13075637e+03,  6.98729924e+03,\n",
              "        3.99511511e+03,  6.28030521e+03,  6.57587465e+03,  5.98938490e+03,\n",
              "        2.86347766e+03,  5.12469486e+03,  7.14524681e+03,  3.96738619e+03,\n",
              "        4.13904396e+03,  4.89951249e+03,  4.16015611e+03,  8.20433950e+03,\n",
              "        4.62329949e+03,  4.34005067e+03,  4.95517585e+03,  3.66208445e+03,\n",
              "        9.96563977e+02,  4.85651060e+03,  3.54958113e+03,  2.56994482e+03,\n",
              "        5.96728192e+03,  3.13843780e+03,  6.03694259e+03,  4.81950007e+03,\n",
              "        5.60088383e+03,  3.99589323e+03,  5.01727622e+03,  6.95567913e+03,\n",
              "        4.50421998e+03,  6.18854090e+03,  8.70290321e+02,  3.89485827e+03,\n",
              "        3.82859737e+03,  1.77016635e+03,  8.02559054e+03,  6.17730533e+03,\n",
              "        5.40833253e+03,  8.05995625e+03,  9.37200649e+03,  7.54083421e+03,\n",
              "        7.29971807e+03,  8.01312562e+03,  4.19368055e+03,  5.43744990e+03,\n",
              "        4.21974051e+03,  7.95706720e+03,  2.49310226e+03,  2.80474761e+03,\n",
              "        7.19076360e+03,  5.84032089e+03,  4.84131098e+03,  2.18360537e+03,\n",
              "        3.84190498e+03,  3.38329868e+03,  7.94088572e+03,  4.89369841e+02,\n",
              "        4.82335402e+03,  8.57673907e+03,  3.26746068e+03,  5.73996388e+03,\n",
              "        4.44576132e+03,  4.36233935e+03,  5.70700745e+03,  7.05080394e+03,\n",
              "        4.52690644e+03,  2.76370018e+03,  6.76523894e+03,  4.95335601e+03,\n",
              "        7.25019634e+03,  5.77567118e+03,  5.75083163e+03,  1.79077262e+03,\n",
              "        2.57489487e+03,  3.60296168e+03,  4.44022357e+03,  7.99420044e+03,\n",
              "        6.91783679e+03,  1.89690567e+03,  2.34611027e+03,  2.98644822e+03,\n",
              "        7.63067544e+03,  3.25267220e+03,  4.65881568e+03,  6.39961378e+03,\n",
              "        4.71070521e+03,  5.02562688e+03,  8.95298098e+03,  6.12857245e+03,\n",
              "        2.75964081e+03,  4.19393337e+03,  4.02275903e+03,  1.42955824e+03,\n",
              "        6.09456951e+03,  6.44878222e+03,  7.68902060e+03,  6.03766710e+03,\n",
              "        6.76637890e+03,  1.25042142e+03,  6.07051678e+03,  7.41461709e+03,\n",
              "        3.86888038e+03,  5.65168474e+03,  6.77554369e+03,  7.36030080e+03,\n",
              "        5.37405140e+03,  6.75132571e+03,  5.76668520e+03,  1.31108202e+03,\n",
              "        3.15912281e+03,  4.91424123e+03,  1.97056083e+03,  3.19892968e+03,\n",
              "        5.76566948e+03,  4.04916067e+03,  3.99074074e+03,  1.00293958e+04,\n",
              "        3.91999164e+03,  6.19535808e+03,  9.62139995e+03,  3.88164598e+03,\n",
              "        4.68215439e+03,  8.83573148e+03,  5.33580223e+03,  5.39864353e+03,\n",
              "        6.83205520e+03,  5.78532925e+03,  5.32531737e+03,  5.64098443e+03,\n",
              "        4.33428212e+03,  3.65692903e+03,  5.19221600e+03,  5.94290988e+03,\n",
              "        5.33426746e+03,  2.27382520e+03,  2.47866161e+02,  8.21961075e+03,\n",
              "        6.96528719e+03,  4.35417821e+03,  7.12747724e+03,  5.09212647e+03,\n",
              "        2.51764069e+03,  6.24017581e+03,  4.80182164e+03,  5.19847347e+03,\n",
              "        6.04299405e+03,  5.96793402e+03,  5.32641024e+03,  2.60031693e+03,\n",
              "        1.79002000e+03,  7.30503841e+02,  2.32030714e+03,  4.20954592e+03,\n",
              "        2.11271938e+03,  5.21191743e+03,  2.83345740e+03,  2.98146744e+03,\n",
              "        7.14606268e+03,  7.30258457e+03,  8.39278626e+03,  5.71359417e+03,\n",
              "        4.52816626e+03,  6.77827121e+03,  4.34153115e+03,  4.26204161e+03,\n",
              "        3.07950646e+03,  2.88947735e+03,  1.95707132e+03,  2.77492321e+03,\n",
              "        7.26073508e+03,  2.56936685e+03,  5.51730964e+03,  6.31205886e+03,\n",
              "        7.42085811e+03,  6.82689713e+03,  3.48770765e+03,  5.56747368e+02,\n",
              "        3.49256547e+03,  5.46307834e+03,  5.11046492e+03,  3.08696098e+03,\n",
              "        2.66283574e+03,  5.71691986e+03,  5.94972854e+03,  3.57757465e+03,\n",
              "        4.75521584e+03,  1.12177865e+04,  6.20435541e+03,  3.34487365e+03,\n",
              "        7.25931189e+03,  6.58289115e+03,  4.75838521e+03, -5.82726844e+02,\n",
              "        6.06607421e+03,  2.64784853e+03,  6.69688789e+03,  6.30842892e+03,\n",
              "        6.56816221e+03,  3.53493013e+03,  5.22041991e+03,  3.84434819e+03,\n",
              "        5.68720988e+03,  4.86815739e+03,  4.27230063e+03,  4.11620771e+03,\n",
              "        6.00843855e+03,  9.12381153e+03,  6.73757249e+03,  3.93465477e+03,\n",
              "        5.37001169e+03,  6.81613744e+03,  6.18509930e+03,  7.65176152e+03,\n",
              "        2.59562383e+03,  7.63551499e+03,  4.12320985e+03,  3.09414839e+03,\n",
              "        8.12273435e+03,  3.67534141e+03,  4.73997725e+03,  7.59248201e+03,\n",
              "        7.78596392e+03,  7.10154471e+03,  2.16077217e+03,  3.96933904e+03,\n",
              "        4.70724853e+03,  6.48571395e+02,  6.82321061e+03,  7.84055281e+03,\n",
              "        5.53106229e+03,  2.54747867e+03,  5.24845649e+03,  4.78728250e+03,\n",
              "        3.59927799e+03,  4.97553782e+03,  6.56096976e+03,  5.01694891e+03,\n",
              "        5.59044758e+03,  3.21185372e+03,  2.05017849e+03,  3.80760760e+03,\n",
              "        5.37771606e+03,  4.08836683e+02,  4.21719878e+03,  5.58598049e+03,\n",
              "        6.89829646e+03,  5.14510172e+03,  4.04458279e+03,  2.02393284e+03,\n",
              "        4.57774058e+03,  2.54428940e+03,  3.70010479e+03,  9.86137948e+03,\n",
              "        5.94614024e+03,  4.05944998e+03,  2.19482439e+03,  5.89370266e+02,\n",
              "        2.89679354e+03,  5.19305266e+03,  6.83120483e+03,  5.17694474e+03,\n",
              "        4.38008125e+03,  4.00566082e+03,  3.84265213e+03,  5.07392119e+03,\n",
              "        7.42999809e+03,  4.93887276e+03,  5.00220662e+03,  2.78890145e+03,\n",
              "        7.85721249e+03,  4.57456595e+03,  2.66671663e+03,  4.24451157e+03,\n",
              "        4.00483310e+03,  4.79332965e+03,  3.18109405e+03,  2.75730860e+03,\n",
              "        5.42871460e+03,  2.42082533e+03,  3.49621492e+03,  4.70273858e+03,\n",
              "        3.28861757e+03,  1.80923641e+03,  6.58111125e+03,  5.47361825e+03,\n",
              "        7.45804540e+03,  9.33643633e+03,  2.75739054e+03,  7.27656907e+03,\n",
              "        7.77500107e+03,  2.32372853e+03,  4.88060284e+03,  4.08482074e+03,\n",
              "        7.94882792e+03,  8.70142027e+03,  6.93229757e+03,  4.58265642e+03,\n",
              "        5.59492874e+03,  5.82431570e+03,  6.52175371e+03,  3.81750333e+03,\n",
              "        6.88471524e+03,  5.38442127e+03,  4.20766086e+03,  6.89085757e+03,\n",
              "        9.75646114e+03,  3.09863023e+03,  5.25012928e+03,  5.84004364e+03,\n",
              "        5.79644890e+03,  5.96606800e+03,  5.28252349e+03,  4.58648542e+03,\n",
              "        5.69725033e+03,  2.13017336e+03,  8.42800356e+03,  4.98563893e+03,\n",
              "        6.01470931e+03, -1.36866317e+03,  4.55103869e+03,  4.73720468e+03,\n",
              "        3.93249978e+03,  5.10331003e+03,  3.82934157e+03,  4.36263757e+03,\n",
              "        6.92074876e+03,  4.17061463e+03,  6.56241701e+03,  8.94433037e+03,\n",
              "        3.33337999e+03,  8.10455994e+03,  2.93690435e+03,  6.95573024e+03,\n",
              "        6.04530004e+03,  7.04092255e+03,  5.37522993e+03,  3.46671916e+03,\n",
              "        5.57455985e+03,  5.83840624e+03,  2.17884986e+03,  3.52831877e+03,\n",
              "        2.33319395e+03,  4.08126097e+03,  6.88383677e+03,  8.26040474e+03,\n",
              "        5.67127100e+03,  6.29437006e+03,  2.80905087e+03,  3.04890099e+03,\n",
              "        4.86267327e+03,  3.71443675e+03,  4.60161940e+03,  5.66190358e+03,\n",
              "        8.97611274e+03,  3.69205250e+03,  6.24149398e+03,  7.75041998e+02,\n",
              "        6.12076933e+03,  3.32044714e+03,  2.79899371e+03,  6.87654493e+03,\n",
              "        3.50105987e+03,  4.38138291e+03,  5.37422882e+01,  5.25089368e+03,\n",
              "        6.43019594e+03,  4.36278602e+03,  3.88648981e+03,  2.83328854e+03,\n",
              "        3.74346701e+03,  2.22004991e+03,  5.39342216e+03,  3.38445300e+03,\n",
              "        8.55487721e+03,  7.76164871e+03,  6.42117897e+03,  8.08600258e+03,\n",
              "        3.47561586e+03,  3.29302767e+03,  4.22747831e+03,  2.29858046e+03,\n",
              "        6.61926980e+03,  7.68849294e+03,  4.84303323e+03,  5.01878167e+03,\n",
              "        4.01425198e+03,  7.47869113e+03,  6.61802163e+03, -9.02934085e+01,\n",
              "        4.12371624e+03,  4.21904184e+03,  4.93308061e+03,  5.79942737e+03,\n",
              "        7.04930805e+03,  5.67878116e+03,  3.58061650e+03,  2.77770196e+03,\n",
              "        3.19976125e+03,  8.19822361e+02,  3.72714817e+03,  4.83730428e+03,\n",
              "        6.03315929e+03,  5.32719062e+03,  4.89967187e+03,  6.94250809e+03,\n",
              "        9.00053939e+03,  6.82445201e+03,  1.53202237e+03,  6.69527323e+03,\n",
              "        6.05546033e+03,  5.69478227e+03,  7.78510056e+03,  4.42986103e+03,\n",
              "        5.36819854e+03,  1.02808833e+03,  5.29875880e+03,  5.31184537e+03,\n",
              "        4.37015157e+03,  6.57986375e+03,  6.85803936e+03,  6.51494806e+03,\n",
              "        5.64653791e+03,  7.75323226e+03,  3.96704924e+03,  6.44146801e+03,\n",
              "        6.83437059e+03,  4.75805384e+03,  4.46159727e+03,  8.61851497e+03,\n",
              "        6.67866032e+03,  3.95003770e+03,  7.03928536e+03,  6.73329219e+03,\n",
              "        2.30436977e+03,  3.37720958e+03,  3.04887705e+03,  7.23479189e+02,\n",
              "        5.51768177e+03,  4.32436009e+03,  3.92428738e+03,  7.95819508e+03,\n",
              "        3.95982981e+03,  5.90429057e+03,  4.70928600e+03,  5.88707021e+03,\n",
              "        3.51294565e+03,  6.19314436e+03,  2.53634895e+03,  2.16139700e+03,\n",
              "        7.75601101e+03, -3.72283720e+02,  6.65490262e+03,  2.56950286e+03,\n",
              "        4.37592793e+03,  3.03426186e+03,  4.06356752e+03,  2.27239329e+03,\n",
              "        4.07545750e+03,  2.92937965e+03,  6.50271767e+03,  5.75750954e+03,\n",
              "        5.73324562e+03,  5.53088464e+03,  7.44538169e+03,  2.72643313e+03,\n",
              "        2.13532306e+03,  7.44276601e+03,  5.71325824e+03,  2.46310039e+03,\n",
              "        5.92359456e+03,  8.85403977e+03,  3.38873726e+03,  5.10885086e+03,\n",
              "        9.86004774e+03,  4.11906643e+03,  6.94386234e+03,  8.20107723e+03,\n",
              "        1.62732041e+03,  2.36087156e+03,  3.43756556e+03,  3.15330192e+03,\n",
              "        3.27973580e+03,  3.86340083e+03,  3.91354192e+03,  2.56400569e+03,\n",
              "        2.92142512e+03,  5.32812060e+03,  4.29065251e+03,  2.34772774e+03,\n",
              "        2.81043900e+03,  5.69180379e+03,  3.02296263e+03,  2.84270793e+03,\n",
              "        7.64670964e+03,  5.06791621e+03,  6.12490910e+03,  5.66601554e+03,\n",
              "        7.10177386e+03,  3.72624559e+03,  7.04407436e+03,  5.22179653e+03,\n",
              "        5.15220009e+03,  4.43262408e+03,  3.05222056e+03,  9.48214642e+03,\n",
              "        2.10579201e+03,  1.62134544e+03,  5.99250909e+03,  4.07393212e+03,\n",
              "        7.01976842e+03,  1.25495991e+03,  4.82165658e+03,  6.56374959e+02,\n",
              "        4.74455369e+03,  4.49894677e+03,  9.99014008e+03,  5.09504705e+03,\n",
              "        3.02608130e+03,  8.79405152e+03,  3.82897440e+03,  1.20937734e+03,\n",
              "        7.92284385e+03,  4.59871307e+03,  4.13517802e+03,  3.81798837e+03,\n",
              "        4.85179848e+03,  8.06437597e+03,  5.00582362e+03,  5.14265372e+03,\n",
              "        3.51321420e+03,  4.59587609e+03,  6.98961978e+03,  3.44166923e+03,\n",
              "        3.82324360e+03,  5.68342396e+03,  5.35248758e+03,  9.37027592e+03,\n",
              "        3.61548904e+03,  6.72186830e+03,  6.55045597e+03,  6.55661100e+03,\n",
              "        4.75953419e+03,  3.77118328e+03,  2.38577059e+03,  7.37553552e+03,\n",
              "        3.97720787e+03,  6.42957702e+03,  4.00632442e+03,  7.37887804e+03,\n",
              "        6.92658034e+03,  6.97948381e+03,  6.84589932e+03,  7.19893530e+03,\n",
              "        6.38432486e+03,  2.86590527e+03,  3.79776902e+03,  6.46908628e+03,\n",
              "        3.50870488e+03,  6.67352803e+03,  6.89310929e+03,  4.08930437e+03,\n",
              "        1.14545394e+04,  6.22264926e+03,  7.90938746e+03,  5.56394164e+03,\n",
              "        6.73660016e+03,  5.02434568e+03,  5.47828966e+03,  5.62361038e+03,\n",
              "        4.90038275e+03,  2.33471103e+03,  6.12623958e+03,  6.48894877e+03,\n",
              "        6.67029735e+03,  9.66258350e+03,  3.90268371e+03,  2.31250851e+03,\n",
              "        2.17954720e+03,  7.85061182e+03,  5.16128283e+03,  5.78309590e+03,\n",
              "        1.07443814e+04,  5.35805772e+03,  6.69949775e+03,  7.57647512e+03,\n",
              "        5.95216104e+03,  2.04951197e+03,  4.88599235e+03,  6.54821279e+03,\n",
              "        2.63743420e+03,  4.13681737e+03,  8.67764274e+03,  6.10635895e+03,\n",
              "        2.44808639e+03,  4.50624024e+03,  6.43514959e+03,  5.68062261e+03,\n",
              "        4.54966795e+03,  3.33368088e+03,  4.48440554e+03,  6.94427140e+03,\n",
              "        5.31713433e+03,  1.24621824e+03,  9.76680596e+03,  4.04423804e+03,\n",
              "        4.54567783e+03,  3.86374454e+03,  5.27313746e+03,  6.92447543e+03,\n",
              "        6.78253664e+03,  5.30602920e+03,  2.69399523e+03,  7.46182983e+03,\n",
              "        5.94360010e+03,  7.54319795e+03,  4.83616000e+03,  4.26210287e+03,\n",
              "        6.10675685e+03,  4.74753070e+03,  3.30992566e+03,  6.27870295e+03,\n",
              "        6.14533765e+03,  6.21667918e+03,  2.21865598e+03,  7.21133736e+03,\n",
              "        7.19460642e+03,  2.27092185e+03,  4.06491924e+03,  5.33208506e+03,\n",
              "        5.23100138e+03,  4.79344637e+03,  5.56069656e+03,  4.27581284e+03,\n",
              "        4.87474658e+03,  6.78470869e+03,  5.10457122e+03,  3.37073598e+03,\n",
              "        2.12284818e+03,  3.79061782e+03,  6.03924865e+03,  2.36484643e+03,\n",
              "        3.89531070e+03,  5.74711794e+03,  5.20300442e+03,  8.27827232e+03])"
            ]
          },
          "metadata": {},
          "execution_count": 2
        }
      ]
    },
    {
      "cell_type": "code",
      "source": [
        "np.mean(gelirler)"
      ],
      "metadata": {
        "colab": {
          "base_uri": "https://localhost:8080/"
        },
        "id": "QIhaNadKsh4a",
        "outputId": "d6596aed-44b2-4aa5-c840-8ee03de3d2fc"
      },
      "execution_count": 3,
      "outputs": [
        {
          "output_type": "execute_result",
          "data": {
            "text/plain": [
              "5036.120030441183"
            ]
          },
          "metadata": {},
          "execution_count": 3
        }
      ]
    },
    {
      "cell_type": "code",
      "source": [
        "import matplotlib.pyplot as plt\n",
        "plt.hist(gelirler,100)\n",
        "plt.show()"
      ],
      "metadata": {
        "colab": {
          "base_uri": "https://localhost:8080/",
          "height": 430
        },
        "id": "4z4VCglPsvy5",
        "outputId": "6b6aceb8-008c-4fe6-d798-5fe0a76d34c1"
      },
      "execution_count": 4,
      "outputs": [
        {
          "output_type": "display_data",
          "data": {
            "text/plain": [
              "<Figure size 640x480 with 1 Axes>"
            ],
            "image/png": "[encoded data removed]"
          },
          "metadata": {}
        }
      ]
    },
    {
      "cell_type": "code",
      "source": [
        "np.median(gelirler)"
      ],
      "metadata": {
        "colab": {
          "base_uri": "https://localhost:8080/"
        },
        "id": "3TgTHTretGK_",
        "outputId": "e09b7bb6-d885-46db-bd53-1b17c04fb9aa"
      },
      "execution_count": 5,
      "outputs": [
        {
          "output_type": "execute_result",
          "data": {
            "text/plain": [
              "5088.64059284588"
            ]
          },
          "metadata": {},
          "execution_count": 5
        }
      ]
    },
    {
      "cell_type": "code",
      "source": [
        "# peki rastgele 100.000.000 maasli biri bizim veri setimizin icine girerse...\n",
        "gelirler=np.append(gelirler,[100000000])\n",
        "np.mean(gelirler)"
      ],
      "metadata": {
        "colab": {
          "base_uri": "https://localhost:8080/"
        },
        "id": "_Q7nw5_EuiAi",
        "outputId": "eb9d22ac-ed54-4d7e-d9ac-f834fd66640d"
      },
      "execution_count": 6,
      "outputs": [
        {
          "output_type": "execute_result",
          "data": {
            "text/plain": [
              "104931.18884159956"
            ]
          },
          "metadata": {},
          "execution_count": 6
        }
      ]
    },
    {
      "cell_type": "code",
      "source": [
        "np.median(gelirler)"
      ],
      "metadata": {
        "colab": {
          "base_uri": "https://localhost:8080/"
        },
        "id": "XkrK78RIvQkD",
        "outputId": "e9ef825e-0a76-4632-8f35-802a685a20b2"
      },
      "execution_count": 7,
      "outputs": [
        {
          "output_type": "execute_result",
          "data": {
            "text/plain": [
              "5092.126467571183"
            ]
          },
          "metadata": {},
          "execution_count": 7
        }
      ]
    },
    {
      "cell_type": "code",
      "source": [
        "# mode : okuldaki cocuklarin ortalama yas degerlerini olusturalim, toplam 300 ogrenci, yas 7 ile 18 arasinda\n",
        "yaslar=np.random.randint(7,18,size=3000)\n",
        "from scipy import stats\n",
        "\n",
        "stats.mode(yaslar) # mod ve kac kere tekrar ettigi"
      ],
      "metadata": {
        "colab": {
          "base_uri": "https://localhost:8080/"
        },
        "id": "Q9wTrFrEvzka",
        "outputId": "9e166f57-c6d6-4d9e-84b8-5d8e8ccc63cc"
      },
      "execution_count": 10,
      "outputs": [
        {
          "output_type": "execute_result",
          "data": {
            "text/plain": [
              "ModeResult(mode=15, count=295)"
            ]
          },
          "metadata": {},
          "execution_count": 10
        }
      ]
    },
    {
      "cell_type": "markdown",
      "source": [
        "**Type Markdown and Latex**"
      ],
      "metadata": {
        "id": "_LCe4dUvzYUT"
      }
    },
    {
      "cell_type": "code",
      "source": [
        "np.median(yaslar)"
      ],
      "metadata": {
        "colab": {
          "base_uri": "https://localhost:8080/"
        },
        "id": "CdkhOhcSy8Ih",
        "outputId": "7cac7492-4e2d-4842-ba60-a31c0475ad24"
      },
      "execution_count": 11,
      "outputs": [
        {
          "output_type": "execute_result",
          "data": {
            "text/plain": [
              "12.0"
            ]
          },
          "metadata": {},
          "execution_count": 11
        }
      ]
    },
    {
      "cell_type": "code",
      "source": [
        "np.mean(yaslar)"
      ],
      "metadata": {
        "colab": {
          "base_uri": "https://localhost:8080/"
        },
        "id": "ScY6y4f40W_o",
        "outputId": "2bb6595f-b7ce-4a66-bce0-fcc872861431"
      },
      "execution_count": 12,
      "outputs": [
        {
          "output_type": "execute_result",
          "data": {
            "text/plain": [
              "12.036"
            ]
          },
          "metadata": {},
          "execution_count": 12
        }
      ]
    },
    {
      "cell_type": "code",
      "source": [
        "gelirler=np.random.normal(5000,2000,1000)\n",
        "gelirler"
      ],
      "metadata": {
        "colab": {
          "base_uri": "https://localhost:8080/"
        },
        "id": "CoJoqZMk02Pw",
        "outputId": "5716a121-0b50-46af-b35c-df063f2fec7a"
      },
      "execution_count": 13,
      "outputs": [
        {
          "output_type": "execute_result",
          "data": {
            "text/plain": [
              "array([ 3383.2037799 ,  2402.34815811,  5250.13949914,  3341.63404398,\n",
              "        4639.77707588,  3611.63882389,  3519.5516803 ,  6470.16895641,\n",
              "        5519.64234977,  4868.48418317,  3175.30393329,  5549.08744606,\n",
              "        7633.02596626,  2166.02784451,  7457.54947523,  4088.84241936,\n",
              "        4915.23747533,  3416.48847657,  3265.25117601,  8248.09014871,\n",
              "        5752.48017556,  2201.81801499,  3159.25822533,  6282.33996344,\n",
              "        6106.57890856,  3725.0765569 ,  4653.50738312,  4520.66124007,\n",
              "        6121.37980711,  3248.343432  ,  6310.52678531,  4294.15366063,\n",
              "        7529.00494848,  6097.80596984,  1561.64813042,  7151.67312508,\n",
              "        2526.80046782,   571.96703024,  4851.71197488,  3968.23558714,\n",
              "        6137.92454543,  5236.04890857,  4403.9613101 ,  8093.44462381,\n",
              "        4054.92729915,  3909.25929576,  5510.48323283,  5476.63826209,\n",
              "        3672.7649493 ,  5496.82870122,  4178.38117943,  4997.30854038,\n",
              "        4965.24777731,  1326.95940344,  7222.20683128,  8382.96460352,\n",
              "        6766.43761343,  6085.40138338,  5672.82644802,  5073.46409475,\n",
              "        7713.7564496 ,  3512.49644796,  6171.30685246,  3573.01371422,\n",
              "        7013.46757923,  4043.26787243,  3104.07957593,  7765.3571409 ,\n",
              "        1676.15745385,  4365.96322628,  3765.58458101,  6436.70277799,\n",
              "        5124.65588692,  5315.64815226,  6541.04683186,  2542.473653  ,\n",
              "        1539.74674787,  7881.88017357,  4753.46175657,  4433.99078452,\n",
              "        4368.11044877,  7480.84644901,  4105.82999844,  4837.08697722,\n",
              "        5064.91223114,  3028.7436519 ,  3540.61777913,  3330.73384707,\n",
              "        3011.77457465,  3573.27078885,  3944.59288538,  5301.19861205,\n",
              "        3669.85628772,  2448.07039528,  3985.37482922,  7522.88251282,\n",
              "        5175.15156269,  5139.80930474,  4002.47189835,  6437.78599536,\n",
              "        5804.61286603,  5900.70077216,  2326.5269243 ,  4478.66171142,\n",
              "        3763.86490528,  4610.03551635,  3277.6517863 ,  6419.49198197,\n",
              "        4780.31107873,  1881.76447684,  3658.73857472,  6338.51440726,\n",
              "        5987.48099593,  7591.87776771,  3817.51977606,  5599.45950771,\n",
              "        4828.49038256,  4046.69659022,  2512.51760212,  3745.37502657,\n",
              "        8826.1726484 ,  7181.25991046,  6564.63415054,  7427.23673291,\n",
              "        3545.34258968,  8600.51668655,  7308.05711293,  8866.09595814,\n",
              "        4194.85806669,  3328.65095801,  3953.33758799,  6093.33433753,\n",
              "        4236.40330395,  5377.00034155,  5632.92217094,  5702.26213497,\n",
              "        2801.75951537,  3881.58454228,  2722.42446801,  4762.52306527,\n",
              "        5530.78280603,  5350.20458936,  4553.97498646,  5164.639354  ,\n",
              "        5399.02162304,  3508.04512324,  4662.45522658,  6129.34160097,\n",
              "        4011.15749712,  2200.45752372,  4561.77269488,  3863.17268552,\n",
              "        1434.23935329,   754.11259869,  6574.48745768,  6041.92718955,\n",
              "        5005.84294137,  9021.02990885,  6223.84779252,  2313.31923828,\n",
              "        7639.0079807 ,  5203.33362671,  8761.41135845,  5220.42243184,\n",
              "        5469.29517013,  5903.87885321,  3692.19201159, 10631.64931842,\n",
              "        7998.42255334,  5006.09299708,  3967.42623748,  5330.9873931 ,\n",
              "        2820.72722227,  4388.22265513,  3794.64257035,  5923.99730476,\n",
              "        4169.35641849,  5143.00117376,  4725.41875757,  3154.35909964,\n",
              "        4428.90163124,  4891.1870341 ,  1982.19794823,  3825.50941172,\n",
              "        2036.73420649,  5454.69291579,  8322.958238  ,  3782.70594214,\n",
              "        4126.45961736,  5086.77711882,  3414.90987398,  5402.0988109 ,\n",
              "        7153.4354111 ,  5946.76430216,  4664.85094013,  2759.53641789,\n",
              "        5835.97665854,  6792.15621759,  4977.68130419,  3007.75230082,\n",
              "        4044.03159687,  3748.40479828,  2958.19581958,  7788.83923064,\n",
              "        5286.91628989,  5197.50212802,  3257.73240136,  3812.30605573,\n",
              "        4921.25883913,  8583.61841708,  2247.82376674,  7093.33152515,\n",
              "        4862.8617959 ,  7981.77880017,  4589.02188704,  2728.60795117,\n",
              "        7083.161225  ,  4593.51434122,  6791.81770069,  8260.83549844,\n",
              "        4245.44961291,  3573.13927922,  2499.18162746,  2006.08184275,\n",
              "        7231.77499449,  6984.51239573,  2714.53366098,  5966.71580202,\n",
              "        5344.34851477,  5211.87488828,  3823.17918576,  6505.85310567,\n",
              "        7804.86112103,  4109.1383168 ,  8902.96327168,  7926.18823886,\n",
              "        6310.02727128,  5318.80133429,  7770.58817633,  4923.35866391,\n",
              "        4058.37108135,  5154.78058057,  8118.35177443,  5193.90660388,\n",
              "        9080.2699661 ,  4756.80739787,  3907.9075406 ,  7652.2293027 ,\n",
              "        6169.44441821,  7203.76477454,  1836.04764851,  5800.86033897,\n",
              "        6061.71468523,  1926.01750687,  7568.01903884,  4222.71273946,\n",
              "        4098.94463196,  3459.54429599,  5724.6331306 ,  7176.1515448 ,\n",
              "        6075.44453137,  4354.42760525,  7044.09174211,  3148.57536545,\n",
              "        6197.029651  ,  7469.3084985 ,  3852.65654611,  5219.81861687,\n",
              "        4893.02475867,  5299.32164866,  4444.96523953,  5481.14464264,\n",
              "        6923.10537451,   596.34605114,  2834.41676213,  5550.83707228,\n",
              "        4924.86539168,  3152.14229189,  4255.37210497,  1450.80963277,\n",
              "        4432.21968037,  3423.49265857,  4139.40314561,  3299.07248793,\n",
              "        6459.89463201,  8372.42660004,  4915.20341126,  3629.85585208,\n",
              "        8304.18837121,  5814.2750819 , 10254.76693046,  3373.26970805,\n",
              "        4333.80248911,  6901.22147832,  2923.47721182,  4404.11243553,\n",
              "        3283.00831973,  4481.05305616,  3184.87760319,  4118.88139412,\n",
              "        3748.40626777,  3171.01598028,  2357.8819034 ,  4840.15890671,\n",
              "        2877.66575746,  4586.29467626,  6231.36600745,  6753.38658032,\n",
              "        7222.4816385 ,  6867.95650142,  2824.54759926,  3807.02204981,\n",
              "        6850.24581944,  6516.19539242,  5606.87231871,  3188.82089209,\n",
              "        6296.53463048,  4261.49246876,  4438.36695063,  7479.18673679,\n",
              "        4373.90788417,  3372.6067604 ,  2895.20604298,  4670.32300313,\n",
              "       11413.13339709,  7084.53292928,   670.62991294,  2269.85432013,\n",
              "        1761.18433497,  7102.48171261,  6107.96609832,  4511.40871661,\n",
              "        5853.24046197,  4774.96356697,  5605.65592183,  5002.35629214,\n",
              "        4124.74680722,  1396.75327641,  5907.9994058 ,  5361.07324675,\n",
              "        8726.16066992,  5765.55805485,  6226.10153882,  3511.64640778,\n",
              "        4442.79027456,  5870.52336292,  7788.02282842,  5295.23480574,\n",
              "        4543.85265993,  6750.78895896,  5232.68948827,  6221.68387533,\n",
              "        9174.04030518,  1845.3638831 ,  5443.64874006,  2788.32070696,\n",
              "        5967.62474226,  5056.2108562 ,  2928.78477402,  7329.62866822,\n",
              "        6015.33576996,  3506.05404439,  8641.96328234,  8623.42126125,\n",
              "        4669.21763815,  3280.96782237,  4992.84799145,  6423.44306705,\n",
              "        8840.21710675,  2341.32284099,  6450.15465251,  4942.37882506,\n",
              "        5833.72309245,  4973.70025429,  5848.39924945,  2423.89500596,\n",
              "        4768.92948852,  5489.1751056 ,  3458.38710994,  4039.62475084,\n",
              "        2081.94138932,  1232.6823462 ,  3889.39082036,  2419.10516889,\n",
              "        6741.59496684,  1404.01032278,  4025.10063265,  3518.54919437,\n",
              "        6515.22834135,  2314.76378752,  5136.51371957,  5659.59661623,\n",
              "        4128.48724751,  4917.78934545,  3747.97047504,  7441.18417295,\n",
              "        3983.45790137,  2132.16486729,  3949.55944861,  4960.32174395,\n",
              "        3159.48552029,  4839.24483355,  4137.02875601,  8007.71553827,\n",
              "        -346.53801671,  2016.05911436,  6127.50955805,  3325.34582518,\n",
              "        7882.12010472,  4055.58768804,  3286.12047806,  7512.33166939,\n",
              "        5241.8661572 ,  -285.35923615,  1296.87875309,  7405.6448816 ,\n",
              "        2320.39460755,  4421.46443133,  4156.22074422,  8040.84224436,\n",
              "        4367.67185189,  5396.26048118,  2756.57766535,  6565.83491065,\n",
              "        4120.42869209,  4673.93682773,  3036.95199352,  5072.83187592,\n",
              "        5384.33988511,  6501.02737397,  4776.9689856 ,  5307.03861782,\n",
              "        2702.68469419,  6174.54020858,  2217.65879332,  6916.64650327,\n",
              "        5905.92838579,  4588.58335467,  1605.55777832,  4914.71079204,\n",
              "        6067.51026992,  5769.24731999,  5429.0800101 ,  3549.03116215,\n",
              "        7226.22004878,  8896.21710656,   911.53315731,  3761.84884579,\n",
              "        2100.79764607,  5556.11155514,  2630.25653419,  5638.5527265 ,\n",
              "        5632.48070375,  5939.4246496 ,  1361.34519439,  5051.56959609,\n",
              "        3811.65879598,  1543.07563026,  5233.81651791,  5815.93183567,\n",
              "        4214.39794974,  2347.36634462,  6415.26974826,  4541.02498087,\n",
              "        7669.70605248,  1837.94298591,  5927.95529198,  7848.85043369,\n",
              "        2762.55514308,  1483.9309356 ,  4952.75974261,  5472.86137568,\n",
              "        8540.06895817,  6957.51367646,  4410.7097457 ,  5550.51327733,\n",
              "        8513.42214524,  5544.15806425,  6241.30803171,  4387.89584817,\n",
              "        3991.1310577 ,  4320.87541371,  4118.45095382,  1641.83956897,\n",
              "        3619.61801815,  7182.17841627,  4349.59026391,  7032.96480161,\n",
              "        4092.3091434 ,  6049.72907039,  3564.37299633,  6796.57136339,\n",
              "        4485.50520437,  4228.93032364,  6420.52470248,  4276.96165844,\n",
              "        5100.76515642,  5390.00539782,   395.40537175,    56.86138039,\n",
              "        7696.244126  ,  4558.73559923,  4704.32214162,  6027.40482033,\n",
              "        4483.18463835,  7628.81212653,  6588.90124748,  7322.64489985,\n",
              "        8141.69423399,  4535.20268632,  5159.99489821,  8243.97122008,\n",
              "        2175.85260765,  4010.99864035,  4294.86543706,  3876.53560667,\n",
              "        2177.01877335,  4388.80829689,  -365.96235274,  7545.5646525 ,\n",
              "        6166.65803838,  5428.89401329,  6796.16791273,  4700.61206569,\n",
              "        7375.24945441,  4849.85097544,  6114.36674563,  6028.3443685 ,\n",
              "        2059.85406033,  4383.18014126,  3674.34081339,  4329.19580121,\n",
              "        6139.82845886,  5591.56868225,  5972.20089544,  3180.69706192,\n",
              "        4494.57536902,  5004.24832588,  4547.08769549,  6658.23538792,\n",
              "        2756.04883062,  5881.22203332,  4019.45090708,  6165.56436938,\n",
              "        5879.60427613,  2291.31020393,  3573.2666506 ,  8700.86623619,\n",
              "        5391.50338589,  6815.18215626,  5857.23008875,  5618.1903744 ,\n",
              "        5089.41379508,  6847.47093752,  5014.45667989,  1656.46201272,\n",
              "        4349.70111887,  7490.87861654,  6004.72103531,  4859.88020334,\n",
              "        8583.03362149,  7341.0445121 ,  8417.57520309,  4205.11960424,\n",
              "        7592.26147746,  4915.54848849,  8420.43147899,  3659.19396858,\n",
              "        5235.60174251,  4888.06248043,  8851.8136538 ,  3309.7834909 ,\n",
              "        3556.91524586,  7568.38414677,  4826.53012299,  3842.14605181,\n",
              "        5645.00740722,  8348.06336146,  8679.64470862,  3670.6378307 ,\n",
              "        5538.07377663,  5793.86538747,  7309.84552093,  5483.10139427,\n",
              "        4186.537182  ,  6387.98730072,  1845.32696419,  5656.11589655,\n",
              "        4968.64872624,  8832.50105108,  5010.55673286,  5419.02732134,\n",
              "        5291.5938645 ,  4771.07052926,  3998.26168921,  3673.97745754,\n",
              "        6366.02259571,  8477.13542896,  1885.54391907,  5874.13933315,\n",
              "        2289.85418415,  3053.25928972,  3352.98735872,  4934.37599163,\n",
              "        2307.71172448,  5005.70854509,  6621.16273766,  6494.92801085,\n",
              "        7937.26080282,  2687.53509897,  3269.0833026 ,  2650.99857764,\n",
              "        7406.99009846,  5430.66245589,  7413.03123483,  3324.14870758,\n",
              "        5096.35166394,  3997.29666807,  4874.3640854 ,  2792.16477195,\n",
              "        4914.67945216,  3927.41081713,  9339.32438835,  5835.88243124,\n",
              "        4131.12041159,  4688.09817921,  5151.91738234,  6414.32222848,\n",
              "        7547.14908192,  3583.22564247,  5434.99024173,  1749.87781947,\n",
              "        6483.33619354,  5426.4619078 ,  3242.61553136,  4879.13807738,\n",
              "        1928.54677909,  6753.75851585,  7519.47968383,  6086.81084146,\n",
              "        8120.0966576 ,  3209.81623986,  3480.79466987,  8328.40969821,\n",
              "        6334.76401986,  4180.04376547,  7448.3889065 ,  5878.09219159,\n",
              "       10166.01076632,  4737.26493611,  7158.75976648,  3797.57819832,\n",
              "        5750.88525388,  6931.70314986,  8248.59953658,   790.58626491,\n",
              "        1143.85795557,  1958.74897026,  6137.06824882,  3627.49805073,\n",
              "        6902.31621552,  4807.4774275 ,  7205.38393593,  4924.41540793,\n",
              "        1992.96090606,  4393.95608553,  4544.8915883 ,  5679.36315566,\n",
              "        6920.2224565 ,  2847.85042745,  2438.18362778,  5362.10174356,\n",
              "        2463.91127827,  4673.09247791,  6306.10700074,  5422.38230085,\n",
              "        3924.68167101,  4894.8665377 ,  4322.21442012,  7305.3650483 ,\n",
              "        1998.98293329,  5369.39505165,  2938.95459984,  6446.24931227,\n",
              "        4510.39106043,  5046.54815427,  5862.32689332,  6600.39238728,\n",
              "        4836.56213128,  1503.95512682,  5519.23041814,  4828.52282903,\n",
              "        5745.77733309,  8010.05149646,  6024.54498997,  7487.19645917,\n",
              "        8429.3539338 ,  7638.88797824,  7755.19289999,  4324.78056753,\n",
              "        5041.10062927,  4184.53642099,  8003.90402436,  5465.60182966,\n",
              "        5806.97210692,  3414.9622204 ,  5013.09775774,  7940.56375765,\n",
              "        7426.70169274,  4355.21543441,  6298.12644397,  7213.19183062,\n",
              "        3961.81766623,  6085.24949156,  2061.84518361,  3797.80660765,\n",
              "        4509.03734108,  9225.40517983,  7065.72594584,  7672.55262542,\n",
              "        3875.13077789,  4201.69743585,  3627.81474595,  7067.88663342,\n",
              "        4616.2593793 ,  2717.02140115,  8213.47709831,  3073.19844863,\n",
              "        6667.01722125,  7141.1026734 ,  5245.21874506,  6351.89193044,\n",
              "        4645.57697009,  5166.7710054 ,  4644.81100652,  7563.31126279,\n",
              "        5174.07005141,  4561.09025347,  4144.0551474 ,  3992.73330991,\n",
              "        5955.73189266,  6514.81148763,  4985.40531205,  4439.54458634,\n",
              "        3828.37893621,  5595.33059575,  3345.44267199,  7498.64249863,\n",
              "        3936.3403467 ,  4783.19986448,  2973.30052494,  4828.70870697,\n",
              "        8766.32005504,  3056.23110894,  8901.14143901,  7547.84824056,\n",
              "        5522.10576466,  5445.78863781,  4077.88365952,  3141.54656732,\n",
              "        5446.10119762,  8142.57978809,  6078.11239818,   945.30863761,\n",
              "        4063.47478627,  5993.26376201,  3776.34426695,  9086.28215481,\n",
              "        5269.16964829,  9254.94207114,  5524.60528291,  2722.8243189 ,\n",
              "        5555.2175565 ,  7443.62660259, -1052.92943318,  5682.45867739,\n",
              "        7655.51827556,  4103.13938259,  5709.95717627,  4529.56366638,\n",
              "        3688.68551965,  2969.93560455,  3364.4699323 ,  4986.49171756,\n",
              "        4905.61581072,  3352.85931296,  9305.71384196,  6907.46644282,\n",
              "        2378.20736946,  6348.24189804,  6558.7770574 ,  5663.14426143,\n",
              "        6497.89759988,  7563.66505005,  5438.84273716,  5191.74793567,\n",
              "        2446.76034825,  3183.00457685,  6415.80886445,  4076.2003441 ,\n",
              "        5897.9642969 ,  6490.62811419,  3104.74360894,  6122.36733575,\n",
              "        2177.99195352,  3597.58961178,  1641.300501  ,  6211.37962681,\n",
              "        2767.67746316,  1884.72535925,  2528.66248939,  3590.47451687,\n",
              "        4030.31475605,  8129.99278798,  6938.70864275,  6235.92555287,\n",
              "         953.7494206 ,  7130.70195937,  8304.66187263,  6003.67527986,\n",
              "        7459.92671593,  5875.97295691,  8011.59718009,  9152.69535995,\n",
              "        7564.10447511,  4802.82381713,  7116.69935544,  6802.87886894,\n",
              "        5875.05968306,  8682.58356143,  4443.4865411 ,  2561.37498533,\n",
              "        4366.09779866,  3458.9156742 ,  5823.91258134,  2946.39039888,\n",
              "        6162.1564753 ,  6306.14828185,  6006.98550047,  5925.12281429,\n",
              "        5688.42399495,  2342.06096831,  2121.94569416,  4025.29004917,\n",
              "        4087.70390282,  5719.26664522,  5385.40190434,  4792.4198562 ,\n",
              "        7331.99190792,  3514.00747123,  2250.01612527,  2107.84241079,\n",
              "        6109.10600867,  6323.78076525,  2926.74559253,  7241.52468606,\n",
              "        4264.63425916,  6312.02449261,  3318.29793078,  6845.13865321,\n",
              "        8107.59547439,  4919.66986267,  4239.51236663,  1524.09391971,\n",
              "        2155.51166635,  7747.66407177,  4784.47607283,  7415.78320011,\n",
              "        6402.21350233,  5901.44637495,  3918.0894852 ,  1872.51183062,\n",
              "        3584.76099752,  8776.10830196,  6594.49757887,  3550.74381251,\n",
              "        3630.53383739,  3834.24606395,  5738.37296757,  4533.82398457,\n",
              "        4487.18303659,  4061.42085747,  5073.60612915,  7376.57680409,\n",
              "        6591.27796938,  8184.6938002 ,  2648.99716672,  3796.72609633,\n",
              "        9346.35638631,  6503.21290008,  3922.54464954,  8953.68098903,\n",
              "        4956.99573307,  -488.67501571,  3941.18327425,  8426.18119735,\n",
              "        6340.35277389,  6355.11098648,  3788.76048434,  8193.07972791,\n",
              "        6143.9840555 ,  6811.31475356,  4883.37713593,  5560.59337455,\n",
              "        6503.39743862,  2412.81334427,  5162.58702536,  8210.56984083,\n",
              "        8384.86425224,  3813.54314176,  2671.51151498,  7290.52706951,\n",
              "        5947.02310712,  8822.54959666,  -704.10521432,  7185.92869145,\n",
              "        8518.64313539,  1995.6518549 ,  3820.36940023,  2130.96307235,\n",
              "        3642.6727995 ,  5719.02270482,  5566.80015039,  8232.08163318,\n",
              "        2916.09604977,  3846.11065965,  4017.99463926,  7894.69657361,\n",
              "        5069.57245168,  3915.62009005,  4563.13031064,  6706.77371073,\n",
              "        7792.50458753,  7102.48812819,  3385.57714926,  4442.29110438,\n",
              "        4308.03491825,  4917.83690456,  6684.2666682 ,  6380.82978274,\n",
              "        4347.41912971,  5311.30385138,  3427.34050573,  3823.62685534,\n",
              "        1457.05192113,  7122.69059318,  5536.49105127,  3949.8664703 ,\n",
              "        4317.59564546,  4577.57507847,  6827.18435653,  6640.64072998,\n",
              "        6374.52978938,  2904.85095968,  4750.70133328,  5262.20544661,\n",
              "        4746.45478383,  2803.61811425,  4127.44535217,  1745.84382994,\n",
              "        7234.93890694,  5806.56443748,  4362.02832831,  1520.19813914,\n",
              "        3402.25660741,  5465.17001104,  6177.08861405,  4182.196814  ,\n",
              "        1841.93215578,  7289.37835459,  2086.28830899,  2370.37937847,\n",
              "        5802.52824779,  7759.25114984,  6221.98959807,  3210.79052683,\n",
              "        1162.67639249,  6563.65906842,  7712.76539998,  5004.72011224,\n",
              "        5262.83854722,  7143.20645099,  4888.90894846,  4922.66958748,\n",
              "        5844.33446946,  2773.16190691,  6605.69622499,  7271.05851286,\n",
              "        5360.75177945,  3986.74407906,  2709.36664431,  5021.82506826,\n",
              "        6416.72666453,  7698.32941328,  5149.28521295,  5876.12384223,\n",
              "        5564.54517145,  7688.82886109,  6144.10464337,  6531.26779451])"
            ]
          },
          "metadata": {},
          "execution_count": 13
        }
      ]
    },
    {
      "cell_type": "code",
      "source": [
        "gelirler.var() # varyans hesaplamak icin"
      ],
      "metadata": {
        "colab": {
          "base_uri": "https://localhost:8080/"
        },
        "id": "fKQseGWe08L1",
        "outputId": "37606f39-27f6-45bc-f393-f95c2508df26"
      },
      "execution_count": 15,
      "outputs": [
        {
          "output_type": "execute_result",
          "data": {
            "text/plain": [
              "3782261.1570852245"
            ]
          },
          "metadata": {},
          "execution_count": 15
        }
      ]
    },
    {
      "cell_type": "code",
      "source": [
        "gelirler.std() # standard sapma"
      ],
      "metadata": {
        "colab": {
          "base_uri": "https://localhost:8080/"
        },
        "id": "MX0vpPOm1G5c",
        "outputId": "49a9a00e-81d1-426f-a9a1-143412ca6f4f"
      },
      "execution_count": 16,
      "outputs": [
        {
          "output_type": "execute_result",
          "data": {
            "text/plain": [
              "1944.8036294405726"
            ]
          },
          "metadata": {},
          "execution_count": 16
        }
      ]
    },
    {
      "cell_type": "code",
      "source": [],
      "metadata": {
        "id": "dqHKSvAK1PNR"
      },
      "execution_count": null,
      "outputs": []
    }
  ]
}