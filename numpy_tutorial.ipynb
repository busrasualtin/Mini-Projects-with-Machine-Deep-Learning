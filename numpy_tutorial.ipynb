{
  "nbformat": 4,
  "nbformat_minor": 0,
  "metadata": {
    "colab": {
      "provenance": []
    },
    "kernelspec": {
      "name": "python3",
      "display_name": "Python 3"
    },
    "language_info": {
      "name": "python"
    }
  },
  "cells": [
    {
      "cell_type": "code",
      "execution_count": 4,
      "metadata": {
        "id": "1N2Hv82UNLAq"
      },
      "outputs": [],
      "source": [
        "import numpy as np"
      ]
    },
    {
      "cell_type": "code",
      "source": [
        "a=np.array([1,5,10])\n",
        "print(a)"
      ],
      "metadata": {
        "colab": {
          "base_uri": "https://localhost:8080/"
        },
        "id": "erWQf8PENa3h",
        "outputId": "77f95fb9-3ce1-4ad3-e6f0-9615d728f67d"
      },
      "execution_count": 5,
      "outputs": [
        {
          "output_type": "stream",
          "name": "stdout",
          "text": [
            "[ 1  5 10]\n"
          ]
        }
      ]
    },
    {
      "cell_type": "code",
      "source": [
        "b=np.array([[1,7,20],[5,8,9]])\n",
        "print(b)"
      ],
      "metadata": {
        "colab": {
          "base_uri": "https://localhost:8080/"
        },
        "id": "gbavlNzTNeig",
        "outputId": "9ad09ebb-500c-4fff-a855-68463abd8ce3"
      },
      "execution_count": 6,
      "outputs": [
        {
          "output_type": "stream",
          "name": "stdout",
          "text": [
            "[[ 1  7 20]\n",
            " [ 5  8  9]]\n"
          ]
        }
      ]
    },
    {
      "cell_type": "code",
      "source": [
        "# dizi boyutunu ogrenmek icin ndim kullanilir\n",
        "a.ndim"
      ],
      "metadata": {
        "colab": {
          "base_uri": "https://localhost:8080/"
        },
        "id": "2ZZRHP55NprD",
        "outputId": "8bef8cd0-2726-4656-90c5-6b3a012f5565"
      },
      "execution_count": 7,
      "outputs": [
        {
          "output_type": "execute_result",
          "data": {
            "text/plain": [
              "1"
            ]
          },
          "metadata": {},
          "execution_count": 7
        }
      ]
    },
    {
      "cell_type": "code",
      "source": [
        "b.ndim"
      ],
      "metadata": {
        "colab": {
          "base_uri": "https://localhost:8080/"
        },
        "id": "5U9m2wqsQhcW",
        "outputId": "12d0c672-8bdf-4452-c949-c8f5a5b34f21"
      },
      "execution_count": 8,
      "outputs": [
        {
          "output_type": "execute_result",
          "data": {
            "text/plain": [
              "2"
            ]
          },
          "metadata": {},
          "execution_count": 8
        }
      ]
    },
    {
      "cell_type": "code",
      "source": [
        "# iki satir uc sutunlu dizimizin boyunu ogrenmek icin shape kullanilir\n",
        "b.shape"
      ],
      "metadata": {
        "colab": {
          "base_uri": "https://localhost:8080/"
        },
        "id": "pa93hTZLQiNp",
        "outputId": "cb613e21-fa86-46ff-9685-bc816ea8fbf5"
      },
      "execution_count": 9,
      "outputs": [
        {
          "output_type": "execute_result",
          "data": {
            "text/plain": [
              "(2, 3)"
            ]
          },
          "metadata": {},
          "execution_count": 9
        }
      ]
    },
    {
      "cell_type": "code",
      "source": [
        "a.shape"
      ],
      "metadata": {
        "colab": {
          "base_uri": "https://localhost:8080/"
        },
        "id": "ZFNWB7VJQreD",
        "outputId": "06f4d4ee-942b-4b89-b8e2-09d5277fb07f"
      },
      "execution_count": 10,
      "outputs": [
        {
          "output_type": "execute_result",
          "data": {
            "text/plain": [
              "(3,)"
            ]
          },
          "metadata": {},
          "execution_count": 10
        }
      ]
    },
    {
      "cell_type": "code",
      "source": [
        "# verilerin tiplerini ogrenmek icin dtype kullanilir\n",
        "a.dtype"
      ],
      "metadata": {
        "colab": {
          "base_uri": "https://localhost:8080/"
        },
        "id": "hOpEAvU1Qu8p",
        "outputId": "9c30b9f3-8120-467f-b00d-9d1d59e90e7f"
      },
      "execution_count": 11,
      "outputs": [
        {
          "output_type": "execute_result",
          "data": {
            "text/plain": [
              "dtype('int64')"
            ]
          },
          "metadata": {},
          "execution_count": 11
        }
      ]
    },
    {
      "cell_type": "code",
      "source": [
        "# float degerler icerdiginde cikan dtype sonucu asagidaki gibidir\n",
        "x=np.array([1.0,5.4,10.2])\n",
        "x.dtype"
      ],
      "metadata": {
        "colab": {
          "base_uri": "https://localhost:8080/"
        },
        "id": "oq1CdD7EQ4YD",
        "outputId": "a1574480-51ca-4b44-892f-572e5f93d6b1"
      },
      "execution_count": 12,
      "outputs": [
        {
          "output_type": "execute_result",
          "data": {
            "text/plain": [
              "dtype('float64')"
            ]
          },
          "metadata": {},
          "execution_count": 12
        }
      ]
    },
    {
      "cell_type": "code",
      "source": [
        "# dizinin belirli bir hucresine erismek icin satir ve sutun bilgisi kullanilir\n",
        "b[0,2]"
      ],
      "metadata": {
        "colab": {
          "base_uri": "https://localhost:8080/"
        },
        "id": "sqB7299ZQ5id",
        "outputId": "707c3bc1-52de-4e3e-c98e-a383aaee02cc"
      },
      "execution_count": 13,
      "outputs": [
        {
          "output_type": "execute_result",
          "data": {
            "text/plain": [
              "20"
            ]
          },
          "metadata": {},
          "execution_count": 13
        }
      ]
    },
    {
      "cell_type": "code",
      "source": [
        "b[1,1]"
      ],
      "metadata": {
        "colab": {
          "base_uri": "https://localhost:8080/"
        },
        "id": "jUJmyLTuRSYk",
        "outputId": "9ca968a7-f7cc-4373-9f03-00fc4cd697d4"
      },
      "execution_count": 14,
      "outputs": [
        {
          "output_type": "execute_result",
          "data": {
            "text/plain": [
              "8"
            ]
          },
          "metadata": {},
          "execution_count": 14
        }
      ]
    },
    {
      "cell_type": "code",
      "source": [
        "# burada sadece sifirinci index yani birinci satirin bilgilerini gozlemleyecegiz\n",
        "b[0]"
      ],
      "metadata": {
        "colab": {
          "base_uri": "https://localhost:8080/"
        },
        "id": "mtUz5oCPRU_H",
        "outputId": "837ff2b5-aa37-4a1f-fa5b-7d9d9958e396"
      },
      "execution_count": 15,
      "outputs": [
        {
          "output_type": "execute_result",
          "data": {
            "text/plain": [
              "array([ 1,  7, 20])"
            ]
          },
          "metadata": {},
          "execution_count": 15
        }
      ]
    },
    {
      "cell_type": "code",
      "source": [
        "# ilk satirdaki ikinci ve ucuncu elemanlara - yani 7 ve 20 degerlerine erismek icin \":\" kullaniriz\n",
        "b[0,1:]"
      ],
      "metadata": {
        "colab": {
          "base_uri": "https://localhost:8080/"
        },
        "id": "CuPPxQqWRd8C",
        "outputId": "25d49878-0671-4e63-a1da-d4bfb4ddcd9b"
      },
      "execution_count": 16,
      "outputs": [
        {
          "output_type": "execute_result",
          "data": {
            "text/plain": [
              "array([ 7, 20])"
            ]
          },
          "metadata": {},
          "execution_count": 16
        }
      ]
    },
    {
      "cell_type": "code",
      "source": [
        "b[1,1]=18\n",
        "b[1,1]"
      ],
      "metadata": {
        "colab": {
          "base_uri": "https://localhost:8080/"
        },
        "id": "rIVHlRlERzzF",
        "outputId": "d9c1a950-eaa2-4813-83f8-c5a8aa987519"
      },
      "execution_count": 17,
      "outputs": [
        {
          "output_type": "execute_result",
          "data": {
            "text/plain": [
              "18"
            ]
          },
          "metadata": {},
          "execution_count": 17
        }
      ]
    },
    {
      "cell_type": "code",
      "source": [
        "b"
      ],
      "metadata": {
        "colab": {
          "base_uri": "https://localhost:8080/"
        },
        "id": "3RJFwPrhfXEJ",
        "outputId": "ec3f67a6-88e4-4eed-e04b-25c3b7bb57e7"
      },
      "execution_count": 18,
      "outputs": [
        {
          "output_type": "execute_result",
          "data": {
            "text/plain": [
              "array([[ 1,  7, 20],\n",
              "       [ 5, 18,  9]])"
            ]
          },
          "metadata": {},
          "execution_count": 18
        }
      ]
    },
    {
      "cell_type": "markdown",
      "source": [
        "**Otomatik Dizi Olusturma**"
      ],
      "metadata": {
        "id": "QAykRPDpfZoD"
      }
    },
    {
      "cell_type": "code",
      "source": [
        "# tumu sifir matrisi\n",
        "dizi_s = np.zeros((2,3))\n",
        "dizi_s"
      ],
      "metadata": {
        "colab": {
          "base_uri": "https://localhost:8080/"
        },
        "id": "7i624xVzfXif",
        "outputId": "e61b64d0-b209-4add-928e-9dea612e298c"
      },
      "execution_count": 19,
      "outputs": [
        {
          "output_type": "execute_result",
          "data": {
            "text/plain": [
              "array([[0., 0., 0.],\n",
              "       [0., 0., 0.]])"
            ]
          },
          "metadata": {},
          "execution_count": 19
        }
      ]
    },
    {
      "cell_type": "code",
      "source": [
        "# tumu ayni deger olan dizi\n",
        "dizi1=np.full((4,4),50)\n",
        "dizi1"
      ],
      "metadata": {
        "colab": {
          "base_uri": "https://localhost:8080/"
        },
        "id": "PkbktlC4fm1Z",
        "outputId": "dba4de6d-5eba-4476-b3c6-0b5246b1cbd0"
      },
      "execution_count": 20,
      "outputs": [
        {
          "output_type": "execute_result",
          "data": {
            "text/plain": [
              "array([[50, 50, 50, 50],\n",
              "       [50, 50, 50, 50],\n",
              "       [50, 50, 50, 50],\n",
              "       [50, 50, 50, 50]])"
            ]
          },
          "metadata": {},
          "execution_count": 20
        }
      ]
    },
    {
      "cell_type": "code",
      "source": [
        "# random dizi olusturma\n",
        "dizi2=np.random.rand(4,3)\n",
        "dizi2"
      ],
      "metadata": {
        "colab": {
          "base_uri": "https://localhost:8080/"
        },
        "id": "UcVS2gzYf4Mb",
        "outputId": "e2dfd4d5-9b7a-4a70-fa39-f64b89d94abd"
      },
      "execution_count": 21,
      "outputs": [
        {
          "output_type": "execute_result",
          "data": {
            "text/plain": [
              "array([[0.17929073, 0.01796821, 0.39003797],\n",
              "       [0.86085369, 0.16353592, 0.4071744 ],\n",
              "       [0.38750639, 0.71208069, 0.14932058],\n",
              "       [0.07594761, 0.60123158, 0.70341927]])"
            ]
          },
          "metadata": {},
          "execution_count": 21
        }
      ]
    },
    {
      "cell_type": "code",
      "source": [
        "# otomatik random int dizi olusturma\n",
        "dizi3=np.random.randint(0,100,size=(5,5))\n",
        "dizi3"
      ],
      "metadata": {
        "colab": {
          "base_uri": "https://localhost:8080/"
        },
        "id": "cIubeLcCttHS",
        "outputId": "97f5eba5-206c-4192-a56b-d26f6d193d9e"
      },
      "execution_count": 22,
      "outputs": [
        {
          "output_type": "execute_result",
          "data": {
            "text/plain": [
              "array([[73, 17, 31, 34, 73],\n",
              "       [57, 44, 14, 40, 29],\n",
              "       [ 3, 98, 75, 85, 52],\n",
              "       [99, 77, 64, 31, 73],\n",
              "       [45, 25, 43, 41, 82]])"
            ]
          },
          "metadata": {},
          "execution_count": 22
        }
      ]
    },
    {
      "cell_type": "markdown",
      "source": [
        "**Dizi Kopyalama**"
      ],
      "metadata": {
        "id": "zxTe5ojYDrL3"
      }
    },
    {
      "cell_type": "code",
      "source": [
        "a=np.array([1,2,30])\n",
        "b=a\n",
        "b[0]=90\n",
        "print(a)"
      ],
      "metadata": {
        "colab": {
          "base_uri": "https://localhost:8080/"
        },
        "id": "u005pM3ZD1hU",
        "outputId": "2c5b3a5f-5b74-49c0-d6e7-f2a2b325fa31"
      },
      "execution_count": 23,
      "outputs": [
        {
          "output_type": "stream",
          "name": "stdout",
          "text": [
            "[90  2 30]\n"
          ]
        }
      ]
    },
    {
      "cell_type": "code",
      "source": [
        "# bu bir pointer gibi a'nın gosterdigi aynı memory lokasyonunu gosteriyor o nedenle b'deki degisiklik a'da da oluyor.\n",
        "# bu tarz durumlarla karsilasmamak icin copy() function kullanilmali\n",
        "\n",
        "a=np.array([1,2,30])\n",
        "b=a.copy()\n",
        "b[0]=90\n",
        "print(a)"
      ],
      "metadata": {
        "colab": {
          "base_uri": "https://localhost:8080/"
        },
        "id": "wzcwCoAdD_Zr",
        "outputId": "d3b95a6f-42bd-44af-dbf2-ca41e3507878"
      },
      "execution_count": 24,
      "outputs": [
        {
          "output_type": "stream",
          "name": "stdout",
          "text": [
            "[ 1  2 30]\n"
          ]
        }
      ]
    },
    {
      "cell_type": "code",
      "source": [
        "print(b)"
      ],
      "metadata": {
        "colab": {
          "base_uri": "https://localhost:8080/"
        },
        "id": "7HZvZ8AlHHlE",
        "outputId": "3fdd6595-48dc-42b1-b490-b27c700f322a"
      },
      "execution_count": 25,
      "outputs": [
        {
          "output_type": "stream",
          "name": "stdout",
          "text": [
            "[90  2 30]\n"
          ]
        }
      ]
    },
    {
      "cell_type": "markdown",
      "source": [
        "**Dizilerde Matematiksel Islemler**"
      ],
      "metadata": {
        "id": "qbvggxv_HMt3"
      }
    },
    {
      "cell_type": "code",
      "source": [
        "a=np.array([1,2,3,4])\n",
        "print(a)"
      ],
      "metadata": {
        "colab": {
          "base_uri": "https://localhost:8080/"
        },
        "id": "8WNKeddMHJNX",
        "outputId": "0b1f51db-e56b-4958-f170-9260f231ad32"
      },
      "execution_count": 26,
      "outputs": [
        {
          "output_type": "stream",
          "name": "stdout",
          "text": [
            "[1 2 3 4]\n"
          ]
        }
      ]
    },
    {
      "cell_type": "code",
      "source": [
        "a+4 # her elemana tek tek islem uygulanir"
      ],
      "metadata": {
        "colab": {
          "base_uri": "https://localhost:8080/"
        },
        "id": "6wtQvr9vHUiA",
        "outputId": "f1cedaf7-fa76-487e-c631-7f2ef78fcdb7"
      },
      "execution_count": 27,
      "outputs": [
        {
          "output_type": "execute_result",
          "data": {
            "text/plain": [
              "array([5, 6, 7, 8])"
            ]
          },
          "metadata": {},
          "execution_count": 27
        }
      ]
    },
    {
      "cell_type": "code",
      "source": [
        "a*2"
      ],
      "metadata": {
        "colab": {
          "base_uri": "https://localhost:8080/"
        },
        "id": "G4WGNTgJHWHs",
        "outputId": "21905f82-4a65-408e-bc79-5ceac634a854"
      },
      "execution_count": 28,
      "outputs": [
        {
          "output_type": "execute_result",
          "data": {
            "text/plain": [
              "array([2, 4, 6, 8])"
            ]
          },
          "metadata": {},
          "execution_count": 28
        }
      ]
    },
    {
      "cell_type": "code",
      "source": [
        "a/2"
      ],
      "metadata": {
        "colab": {
          "base_uri": "https://localhost:8080/"
        },
        "id": "G8EeKw6tHX1v",
        "outputId": "ceac4e34-9fe4-4406-b67a-171f8f8382f6"
      },
      "execution_count": 29,
      "outputs": [
        {
          "output_type": "execute_result",
          "data": {
            "text/plain": [
              "array([0.5, 1. , 1.5, 2. ])"
            ]
          },
          "metadata": {},
          "execution_count": 29
        }
      ]
    },
    {
      "cell_type": "code",
      "source": [
        "b=np.array([1,0,1,0])\n",
        "a+b"
      ],
      "metadata": {
        "colab": {
          "base_uri": "https://localhost:8080/"
        },
        "id": "duAHq369HYin",
        "outputId": "436b071f-b976-4194-ee32-2af31815bb74"
      },
      "execution_count": 30,
      "outputs": [
        {
          "output_type": "execute_result",
          "data": {
            "text/plain": [
              "array([2, 2, 4, 4])"
            ]
          },
          "metadata": {},
          "execution_count": 30
        }
      ]
    },
    {
      "cell_type": "code",
      "source": [
        "a**2 # karesi"
      ],
      "metadata": {
        "colab": {
          "base_uri": "https://localhost:8080/"
        },
        "id": "5FGbelFZHZGj",
        "outputId": "3b2b2666-b340-4ff5-eb17-e21811bebf31"
      },
      "execution_count": 31,
      "outputs": [
        {
          "output_type": "execute_result",
          "data": {
            "text/plain": [
              "array([ 1,  4,  9, 16])"
            ]
          },
          "metadata": {},
          "execution_count": 31
        }
      ]
    },
    {
      "cell_type": "markdown",
      "source": [
        "**Istatistik**"
      ],
      "metadata": {
        "id": "DPCXRV4Mov9L"
      }
    },
    {
      "cell_type": "code",
      "source": [
        "dizi4=np.array([[1,2,3],[4,5,6]])\n",
        "dizi4"
      ],
      "metadata": {
        "colab": {
          "base_uri": "https://localhost:8080/"
        },
        "id": "rwkZ7vr2ocRI",
        "outputId": "b78e2903-ecf0-4cb3-ba4d-7b44a08f038d"
      },
      "execution_count": 32,
      "outputs": [
        {
          "output_type": "execute_result",
          "data": {
            "text/plain": [
              "array([[1, 2, 3],\n",
              "       [4, 5, 6]])"
            ]
          },
          "metadata": {},
          "execution_count": 32
        }
      ]
    },
    {
      "cell_type": "code",
      "source": [
        "np.min(dizi4) #dizinin icindeki min deger"
      ],
      "metadata": {
        "colab": {
          "base_uri": "https://localhost:8080/"
        },
        "id": "CvgccmyRo7Qi",
        "outputId": "c7b11367-85e2-4cd4-e79e-3c63f4d5bbd4"
      },
      "execution_count": 35,
      "outputs": [
        {
          "output_type": "execute_result",
          "data": {
            "text/plain": [
              "1"
            ]
          },
          "metadata": {},
          "execution_count": 35
        }
      ]
    },
    {
      "cell_type": "code",
      "source": [
        "np.max(dizi4) # dizinin icindeki max deger"
      ],
      "metadata": {
        "colab": {
          "base_uri": "https://localhost:8080/"
        },
        "id": "nEww0qhko_R0",
        "outputId": "e02066d5-712b-4017-bc0d-3a86f27d9c59"
      },
      "execution_count": 36,
      "outputs": [
        {
          "output_type": "execute_result",
          "data": {
            "text/plain": [
              "6"
            ]
          },
          "metadata": {},
          "execution_count": 36
        }
      ]
    },
    {
      "cell_type": "code",
      "source": [
        "np.sum(dizi4) # dizi elemanlari toplami"
      ],
      "metadata": {
        "colab": {
          "base_uri": "https://localhost:8080/"
        },
        "id": "Axg65MEVpANH",
        "outputId": "0a40bfd7-fb21-4b90-efca-affac0c1a7e5"
      },
      "execution_count": 37,
      "outputs": [
        {
          "output_type": "execute_result",
          "data": {
            "text/plain": [
              "21"
            ]
          },
          "metadata": {},
          "execution_count": 37
        }
      ]
    },
    {
      "cell_type": "markdown",
      "source": [
        "**Dosyadan Dizi Yukleme**"
      ],
      "metadata": {
        "id": "m4Z2UylwpIwo"
      }
    },
    {
      "cell_type": "code",
      "source": [
        "filedata=np.genfromtxt('ornek.txt',delimiter=',')\n",
        "filedata=filedata.astype('int32')\n",
        "print(filedata)"
      ],
      "metadata": {
        "id": "ti0ThX1WpHrt"
      },
      "execution_count": 39,
      "outputs": []
    }
  ]
}